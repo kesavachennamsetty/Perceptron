{
 "cells": [
  {
   "cell_type": "code",
   "execution_count": 3,
   "id": "04a4ac1a",
   "metadata": {},
   "outputs": [],
   "source": [
    "import pandas as pd\n",
    "import numpy as np"
   ]
  },
  {
   "cell_type": "code",
   "execution_count": 7,
   "id": "f649d182",
   "metadata": {},
   "outputs": [],
   "source": [
    "import numpy as np\n",
    "import pandas as pd\n",
    "\n",
    "class Perceptron:\n",
    "    def __init__(self, features, target, epochs, lr_rate):\n",
    "        self.features = features  # Convert DataFrame to NumPy array\n",
    "        self.target = target  # Convert Series to NumPy array\n",
    "        self.epochs = epochs\n",
    "        self.lr_rate = lr_rate\n",
    "\n",
    "        # Initialize weights & bias\n",
    "        self.num_features = features.shape[1]\n",
    "        self.weights = np.random.uniform(0, 1, self.num_features)\n",
    "        self.b = 0\n",
    "\n",
    "    def train(self):\n",
    "        for epoch in range(self.epochs):\n",
    "            total_error = 0  # Sum of all errors in this epoch\n",
    "            weight_updates = np.zeros_like(self.weights)  # Sum of weight updates\n",
    "            correct_predictions = 0\n",
    "            print(f\"\\nEpoch {epoch + 1}:\")\n",
    "\n",
    "            for i in range(len(self.features)):  # Loop over all samples\n",
    "                pred = np.dot(self.features[i], self.weights) + self.b\n",
    "                pred_label = 1 if pred >= 0 else -1  # Sign activation function\n",
    "                error = self.target[i] - pred_label  # Misclassification check\n",
    "                \n",
    "                total_error += abs(error)  # Accumulate error magnitude\n",
    "                weight_updates += self.lr_rate * error * self.features[i]  # Accumulate weight updates\n",
    "                if pred_label == self.target[i]:  # Count correct predictions\n",
    "                    correct_predictions += 1\n",
    "            # Apply summed updates after looping through all samples\n",
    "            self.weights += weight_updates\n",
    "            self.b += self.lr_rate * total_error  # Bias updated based on total error\n",
    "            accuracy = (correct_predictions / len(self.features)) * 100\n",
    "            print(f\"  Total Error = {total_error}, epochs = {epoch}, accuracy = {accuracy}\")\n",
    "            if total_error == 0:\n",
    "                print(\"Training converged, stopping early.\")\n",
    "                break\n",
    "\n",
    "    def predict(self, X):\n",
    "        X = X.values if isinstance(X, pd.DataFrame) else X  # Convert to NumPy if DataFrame\n",
    "        return np.array([1 if np.dot(x, self.weights) + self.b >= 0 else -1 for x in X])\n",
    "\n"
   ]
  },
  {
   "cell_type": "code",
   "execution_count": 67,
   "id": "8d8b8a13",
   "metadata": {},
   "outputs": [
    {
     "name": "stdout",
     "output_type": "stream",
     "text": [
      "<class 'pandas.core.frame.DataFrame'>\n",
      "RangeIndex: 1700 entries, 0 to 1699\n",
      "Data columns (total 11 columns):\n",
      " #   Column              Non-Null Count  Dtype  \n",
      "---  ------              --------------  -----  \n",
      " 0   Age                 1700 non-null   int64  \n",
      " 1   Gender              1700 non-null   int64  \n",
      " 2   BMI                 1700 non-null   float64\n",
      " 3   AlcoholConsumption  1700 non-null   float64\n",
      " 4   Smoking             1700 non-null   int64  \n",
      " 5   GeneticRisk         1700 non-null   int64  \n",
      " 6   PhysicalActivity    1700 non-null   float64\n",
      " 7   Diabetes            1700 non-null   int64  \n",
      " 8   Hypertension        1700 non-null   int64  \n",
      " 9   LiverFunctionTest   1700 non-null   float64\n",
      " 10  Diagnosis           1700 non-null   int64  \n",
      "dtypes: float64(4), int64(7)\n",
      "memory usage: 146.2 KB\n"
     ]
    }
   ],
   "source": [
    "df.info()"
   ]
  },
  {
   "cell_type": "code",
   "execution_count": 15,
   "id": "db805b94",
   "metadata": {},
   "outputs": [],
   "source": [
    "from sklearn.datasets import make_classification\n",
    "X, y = make_classification(n_samples=1000, n_features=2, n_classes=2, n_redundant=0, n_clusters_per_class=1, random_state=42)"
   ]
  },
  {
   "cell_type": "code",
   "execution_count": 18,
   "id": "cf242c26",
   "metadata": {},
   "outputs": [],
   "source": [
    "perceptron = Perceptron(X,y,10,0.1)"
   ]
  },
  {
   "cell_type": "code",
   "execution_count": 19,
   "id": "6b4a72eb",
   "metadata": {},
   "outputs": [
    {
     "name": "stdout",
     "output_type": "stream",
     "text": [
      "\n",
      "Epoch 1:\n",
      "  Total Error = 511, epochs = 0, accuracy = 49.4\n",
      "\n",
      "Epoch 2:\n",
      "  Total Error = 1153, epochs = 1, accuracy = 17.299999999999997\n",
      "\n",
      "Epoch 3:\n",
      "  Total Error = 501, epochs = 2, accuracy = 49.9\n",
      "\n",
      "Epoch 4:\n",
      "  Total Error = 501, epochs = 3, accuracy = 49.9\n",
      "\n",
      "Epoch 5:\n",
      "  Total Error = 503, epochs = 4, accuracy = 49.8\n",
      "\n",
      "Epoch 6:\n",
      "  Total Error = 525, epochs = 5, accuracy = 48.699999999999996\n",
      "\n",
      "Epoch 7:\n",
      "  Total Error = 557, epochs = 6, accuracy = 47.099999999999994\n",
      "\n",
      "Epoch 8:\n",
      "  Total Error = 555, epochs = 7, accuracy = 47.199999999999996\n",
      "\n",
      "Epoch 9:\n",
      "  Total Error = 559, epochs = 8, accuracy = 47.0\n",
      "\n",
      "Epoch 10:\n",
      "  Total Error = 557, epochs = 9, accuracy = 47.099999999999994\n"
     ]
    }
   ],
   "source": [
    "perceptron.train()"
   ]
  },
  {
   "cell_type": "code",
   "execution_count": null,
   "id": "4436876d",
   "metadata": {},
   "outputs": [],
   "source": []
  }
 ],
 "metadata": {
  "kernelspec": {
   "display_name": "Python 3 (ipykernel)",
   "language": "python",
   "name": "python3"
  },
  "language_info": {
   "codemirror_mode": {
    "name": "ipython",
    "version": 3
   },
   "file_extension": ".py",
   "mimetype": "text/x-python",
   "name": "python",
   "nbconvert_exporter": "python",
   "pygments_lexer": "ipython3",
   "version": "3.7.3"
  }
 },
 "nbformat": 4,
 "nbformat_minor": 5
}
